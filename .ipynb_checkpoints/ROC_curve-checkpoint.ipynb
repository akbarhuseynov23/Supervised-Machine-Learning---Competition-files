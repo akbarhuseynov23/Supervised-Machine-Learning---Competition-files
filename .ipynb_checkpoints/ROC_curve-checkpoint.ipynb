{
 "cells": [
  {
   "cell_type": "markdown",
   "metadata": {
    "colab_type": "text",
    "id": "oPUuSjJ96Au-"
   },
   "source": [
    "# **Machine Learning in Python: Making Receiver Operating Characteristic (ROC) curve**\n",
    "\n",
    "\n",
    "In this Jupyter notebook, we will be making a Receiver Operating Characteristic (ROC) curve using a synthetic data set as an example."
   ]
  },
  {
   "cell_type": "markdown",
   "metadata": {
    "colab_type": "text",
    "id": "_SJy5TKvuF9s"
   },
   "source": [
    "## **What is ROC curve?**\n",
    "\n",
    "The **ROC curve** summarizes the prediction performance of a classification model at all classification thresholds. Particularly, the ROC curve plots the **False Positive Rate (FPR)** on the *X-axis* and the **True Positive Rate (TPR)** on the *Y-axis*.\n",
    "\n",
    "$\\text{TPR (Sensitivity)} = \\frac{TP}{TP + FN}$\n",
    "\n",
    "$\\text{FPR (1 - Specificity)} = \\frac{FP}{TN + FP}$"
   ]
  },
  {
   "cell_type": "markdown",
   "metadata": {
    "colab_type": "text",
    "id": "KwebBKbP3Vsx"
   },
   "source": [
    "## **Generate synthetic dataset**"
   ]
  },
  {
   "cell_type": "code",
   "execution_count": 1,
   "metadata": {
    "colab": {},
    "colab_type": "code",
    "id": "ECJbWdcw5JMu"
   },
   "outputs": [],
   "source": [
    "from sklearn.datasets import make_classification"
   ]
  },
  {
   "cell_type": "markdown",
   "metadata": {},
   "source": [
    "#### As an example we create 2000 samples with 2 classes and 10 features"
   ]
  },
  {
   "cell_type": "code",
   "execution_count": 2,
   "metadata": {
    "colab": {},
    "colab_type": "code",
    "id": "Wl9Gu5Ba1d1X"
   },
   "outputs": [],
   "source": [
    "X, Y = make_classification(n_samples=2000, n_classes=2, n_features=10, random_state=0)"
   ]
  },
  {
   "cell_type": "markdown",
   "metadata": {
    "colab_type": "text",
    "id": "eqZsiSMtrdm9"
   },
   "source": [
    "## **Add noisy features to make the problem more difficult** $^1$\n"
   ]
  },
  {
   "cell_type": "code",
   "execution_count": 3,
   "metadata": {},
   "outputs": [],
   "source": [
    "import numpy as np"
   ]
  },
  {
   "cell_type": "code",
   "execution_count": 4,
   "metadata": {
    "colab": {},
    "colab_type": "code",
    "id": "r9otz_41rPXH"
   },
   "outputs": [],
   "source": [
    "random_state = np.random.RandomState(0)\n",
    "n_samples, n_features = X.shape\n",
    "X = np.c_[X, random_state.randn(n_samples, 200 * n_features)]"
   ]
  },
  {
   "cell_type": "markdown",
   "metadata": {
    "colab_type": "text",
    "id": "nAw93CgK4178"
   },
   "source": [
    "## **Data splitting**"
   ]
  },
  {
   "cell_type": "code",
   "execution_count": 5,
   "metadata": {
    "colab": {},
    "colab_type": "code",
    "id": "NRmlzFOA4x9Z"
   },
   "outputs": [],
   "source": [
    "from sklearn.model_selection import train_test_split"
   ]
  },
  {
   "cell_type": "code",
   "execution_count": 6,
   "metadata": {
    "colab": {},
    "colab_type": "code",
    "id": "yTep82KV9axn"
   },
   "outputs": [],
   "source": [
    "X_train, X_test, Y_train, Y_test = train_test_split(X, Y, test_size=.2,\n",
    "                                                    random_state=0)"
   ]
  },
  {
   "cell_type": "markdown",
   "metadata": {
    "colab_type": "text",
    "id": "V_MvToES4n_A"
   },
   "source": [
    "## **Build classification model**"
   ]
  },
  {
   "cell_type": "code",
   "execution_count": 7,
   "metadata": {
    "colab": {},
    "colab_type": "code",
    "id": "Fo9Xk5T94v6j"
   },
   "outputs": [],
   "source": [
    "from sklearn.ensemble import RandomForestClassifier\n",
    "from sklearn.naive_bayes import GaussianNB"
   ]
  },
  {
   "cell_type": "markdown",
   "metadata": {
    "colab_type": "text",
    "id": "0C3NRujmed_j"
   },
   "source": [
    "### Random Forest"
   ]
  },
  {
   "cell_type": "code",
   "execution_count": 8,
   "metadata": {
    "colab": {
     "base_uri": "https://localhost:8080/",
     "height": 153
    },
    "colab_type": "code",
    "id": "5WQ8UFXe9Zmx",
    "outputId": "59d40193-4955-4ef9-89e5-c258b82e0608"
   },
   "outputs": [
    {
     "data": {
      "text/plain": [
       "RandomForestClassifier(max_features=5, n_estimators=500)"
      ]
     },
     "execution_count": 8,
     "metadata": {},
     "output_type": "execute_result"
    }
   ],
   "source": [
    "rf = RandomForestClassifier(max_features=5, n_estimators=500)\n",
    "rf.fit(X_train, Y_train)"
   ]
  },
  {
   "cell_type": "markdown",
   "metadata": {
    "colab_type": "text",
    "id": "Aw_Ax0cne2BC"
   },
   "source": [
    "### Naive Bayes"
   ]
  },
  {
   "cell_type": "code",
   "execution_count": 9,
   "metadata": {
    "colab": {
     "base_uri": "https://localhost:8080/",
     "height": 34
    },
    "colab_type": "code",
    "id": "nxmFVCs-e9Mz",
    "outputId": "6d8621b3-555e-41b7-c219-bd7c2118c0b7"
   },
   "outputs": [
    {
     "data": {
      "text/plain": [
       "GaussianNB()"
      ]
     },
     "execution_count": 9,
     "metadata": {},
     "output_type": "execute_result"
    }
   ],
   "source": [
    "nb = GaussianNB()\n",
    "nb.fit(X_train, Y_train)"
   ]
  },
  {
   "cell_type": "markdown",
   "metadata": {
    "colab_type": "text",
    "id": "hl_hDOsvDmyV"
   },
   "source": [
    "## **Prediction probabilities** $^2$"
   ]
  },
  {
   "cell_type": "code",
   "execution_count": 10,
   "metadata": {
    "colab": {},
    "colab_type": "code",
    "id": "jVkSSnnGCQ0O"
   },
   "outputs": [],
   "source": [
    "# 0 is for the worst case scenario\n",
    "r_probs = [0 for _ in range(len(Y_test))]\n",
    "# rf as the random forest probability \n",
    "rf_probs = rf.predict_proba(X_test)\n",
    "# nb as the naive bayes probability \n",
    "nb_probs = nb.predict_proba(X_test)"
   ]
  },
  {
   "cell_type": "markdown",
   "metadata": {
    "colab_type": "text",
    "id": "GNha6VVeDsyb"
   },
   "source": [
    "Probabilities for the positive outcome is kept."
   ]
  },
  {
   "cell_type": "code",
   "execution_count": 11,
   "metadata": {
    "colab": {},
    "colab_type": "code",
    "id": "a4j8EtvZCdF8"
   },
   "outputs": [],
   "source": [
    "rf_probs = rf_probs[:, 1]\n",
    "nb_probs = nb_probs[:, 1]"
   ]
  },
  {
   "cell_type": "markdown",
   "metadata": {
    "colab_type": "text",
    "id": "rf9gjJcb4i0e"
   },
   "source": [
    "## **Computing AUROC and ROC curve values**"
   ]
  },
  {
   "cell_type": "code",
   "execution_count": 12,
   "metadata": {
    "colab": {},
    "colab_type": "code",
    "id": "cSfzTGWn4lXe"
   },
   "outputs": [],
   "source": [
    "from sklearn.metrics import roc_curve, roc_auc_score"
   ]
  },
  {
   "cell_type": "markdown",
   "metadata": {
    "colab_type": "text",
    "id": "gpr5ON6QC7ip"
   },
   "source": [
    "### **Calculate AUROC**\n",
    "**ROC** is the receiver operating characteristic\n",
    "**AUROC** is the area under the ROC curve"
   ]
  },
  {
   "cell_type": "code",
   "execution_count": 13,
   "metadata": {
    "colab": {},
    "colab_type": "code",
    "id": "yVwjOC6XC5lw"
   },
   "outputs": [],
   "source": [
    "r_auc = roc_auc_score(Y_test, r_probs)\n",
    "rf_auc = roc_auc_score(Y_test, rf_probs)\n",
    "nb_auc = roc_auc_score(Y_test, nb_probs)"
   ]
  },
  {
   "cell_type": "markdown",
   "metadata": {
    "colab_type": "text",
    "id": "TIzyhgstDMqw"
   },
   "source": [
    "### **Print AUROC scores**"
   ]
  },
  {
   "cell_type": "code",
   "execution_count": 14,
   "metadata": {
    "colab": {
     "base_uri": "https://localhost:8080/",
     "height": 68
    },
    "colab_type": "code",
    "id": "lUvZ8_BbC5uf",
    "outputId": "f7012c23-bfd5-4933-8a8c-49fa0c9931ed"
   },
   "outputs": [
    {
     "name": "stdout",
     "output_type": "stream",
     "text": [
      "Random (chance) Prediction: AUROC = 0.500\n",
      "Random Forest: AUROC = 0.844\n",
      "Naive Bayes: AUROC = 0.993\n"
     ]
    }
   ],
   "source": [
    "print('Random (chance) Prediction: AUROC = %.3f' % (r_auc))\n",
    "print('Random Forest: AUROC = %.3f' % (rf_auc))\n",
    "print('Naive Bayes: AUROC = %.3f' % (nb_auc))"
   ]
  },
  {
   "cell_type": "markdown",
   "metadata": {},
   "source": [
    "The random chance prediction will mean that ALL predictions are wrong\n",
    "and the AUC score will give us 0.5\n",
    "\n",
    "The Random Forest gives us a score of 0.94 with bayes being the best model so far with a scpre of 0.993"
   ]
  },
  {
   "cell_type": "markdown",
   "metadata": {
    "colab_type": "text",
    "id": "7AsuB3AQE5FC"
   },
   "source": [
    "### **Calculate ROC curve**"
   ]
  },
  {
   "cell_type": "code",
   "execution_count": 15,
   "metadata": {
    "colab": {},
    "colab_type": "code",
    "id": "lApmrHMp9YDb"
   },
   "outputs": [],
   "source": [
    "r_fpr, r_tpr, _ = roc_curve(Y_test, r_probs)\n",
    "rf_fpr, rf_tpr, _ = roc_curve(Y_test, rf_probs)\n",
    "nb_fpr, nb_tpr, _ = roc_curve(Y_test, nb_probs)"
   ]
  },
  {
   "cell_type": "markdown",
   "metadata": {
    "colab_type": "text",
    "id": "tXpx2YMM4Gsb"
   },
   "source": [
    "## **Plot the ROC curve**"
   ]
  },
  {
   "cell_type": "code",
   "execution_count": 16,
   "metadata": {
    "colab": {},
    "colab_type": "code",
    "id": "oL96kXed4MvL"
   },
   "outputs": [],
   "source": [
    "import matplotlib.pyplot as plt"
   ]
  },
  {
   "cell_type": "code",
   "execution_count": 17,
   "metadata": {
    "colab": {
     "base_uri": "https://localhost:8080/",
     "height": 295
    },
    "colab_type": "code",
    "id": "v2Q6p9qmFVxB",
    "outputId": "99d38f38-6f9c-41bb-aadb-98f428720982"
   },
   "outputs": [
    {
     "data": {
      "image/png": "[encoded data removed]",
      "text/plain": [
       "<Figure size 432x288 with 1 Axes>"
      ]
     },
     "metadata": {
      "needs_background": "light"
     },
     "output_type": "display_data"
    }
   ],
   "source": [
    "\n",
    "plt.plot(r_fpr, r_tpr, linestyle='--', label='Random prediction (AUROC = %0.3f)' % r_auc)\n",
    "plt.plot(rf_fpr, rf_tpr, marker='.', label='Random Forest (AUROC = %0.3f)' % rf_auc)\n",
    "plt.plot(nb_fpr, nb_tpr, marker='.', label='Naive Bayes (AUROC = %0.3f)' % nb_auc)\n",
    "\n",
    "# Title\n",
    "plt.title('ROC Plot')\n",
    "# Axis labels\n",
    "plt.xlabel('False Positive Rate')\n",
    "plt.ylabel('True Positive Rate')\n",
    "# Show legend\n",
    "plt.legend() # \n",
    "# Show plot\n",
    "plt.show()"
   ]
  },
  {
   "cell_type": "code",
   "execution_count": 18,
   "metadata": {},
   "outputs": [
    {
     "name": "stdout",
     "output_type": "stream",
     "text": [
      "Naive Bayes : 0.993\n"
     ]
    }
   ],
   "source": [
    "print('Naive Bayes : %.3f' %nb_auc)"
   ]
  },
  {
   "cell_type": "code",
   "execution_count": 19,
   "metadata": {},
   "outputs": [
    {
     "name": "stdout",
     "output_type": "stream",
     "text": [
      "Random Forest : 0.844\n"
     ]
    }
   ],
   "source": [
    "print('Random Forest : %.3f' %rf_auc)"
   ]
  },
  {
   "cell_type": "code",
   "execution_count": 20,
   "metadata": {},
   "outputs": [
    {
     "name": "stdout",
     "output_type": "stream",
     "text": [
      "Random : 0.500\n"
     ]
    }
   ],
   "source": [
    "print('Random : %.3f' %r_auc)"
   ]
  },
  {
   "cell_type": "markdown",
   "metadata": {
    "colab_type": "text",
    "id": "KjKvljmy5O25"
   },
   "source": [
    "## **Reference**\n",
    "1. https://scikit-learn.org/stable/auto_examples/model_selection/plot_roc.html\n",
    "2. https://machinelearningmastery.com/roc-curves-and-precision-recall-curves-for-classification-in-python/\n"
   ]
  },
  {
   "cell_type": "markdown",
   "metadata": {
    "colab_type": "text",
    "id": "qen82yXu_VFw"
   },
   "source": [
    "---"
   ]
  }
 ],
 "metadata": {
  "colab": {
   "collapsed_sections": [],
   "name": "ROC-curve.ipynb",
   "provenance": []
  },
  "kernelspec": {
   "display_name": "Python 3",
   "language": "python",
   "name": "python3"
  },
  "language_info": {
   "codemirror_mode": {
    "name": "ipython",
    "version": 3
   },
   "file_extension": ".py",
   "mimetype": "text/x-python",
   "name": "python",
   "nbconvert_exporter": "python",
   "pygments_lexer": "ipython3",
   "version": "3.8.8"
  }
 },
 "nbformat": 4,
 "nbformat_minor": 4
}
