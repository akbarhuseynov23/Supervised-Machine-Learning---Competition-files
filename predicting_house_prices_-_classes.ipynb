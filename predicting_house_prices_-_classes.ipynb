{
 "cells": [
  {
   "cell_type": "code",
   "execution_count": 21,
   "id": "ac39f234-c1ef-4bff-8db3-4c3ebbb0087e",
   "metadata": {},
   "outputs": [],
   "source": [
    "import pandas as pd\n",
    "from sklearn.model_selection import train_test_split\n",
    "from sklearn.impute import SimpleImputer\n",
    "from sklearn.tree import DecisionTreeClassifier\n",
    "from sklearn.impute import SimpleImputer\n",
    "from sklearn.preprocessing import OneHotEncoder\n",
    "import matplotlib.pyplot as plt\n",
    "from sklearn.tree import plot_tree\n",
    "from sklearn.metrics import accuracy_score"
   ]
  },
  {
   "cell_type": "code",
   "execution_count": 22,
   "id": "f666a747-0996-4661-bc95-ddb8bf0df7ef",
   "metadata": {
    "tags": []
   },
   "outputs": [
    {
     "name": "stdout",
     "output_type": "stream",
     "text": [
      "<class 'pandas.core.frame.DataFrame'>\n",
      "RangeIndex: 1460 entries, 0 to 1459\n",
      "Data columns (total 81 columns):\n",
      " #   Column         Non-Null Count  Dtype  \n",
      "---  ------         --------------  -----  \n",
      " 0   LotArea        1460 non-null   int64  \n",
      " 1   LotFrontage    1201 non-null   float64\n",
      " 2   TotalBsmtSF    1460 non-null   int64  \n",
      " 3   BedroomAbvGr   1460 non-null   int64  \n",
      " 4   Fireplaces     1460 non-null   int64  \n",
      " 5   PoolArea       1460 non-null   int64  \n",
      " 6   GarageCars     1460 non-null   int64  \n",
      " 7   WoodDeckSF     1460 non-null   int64  \n",
      " 8   ScreenPorch    1460 non-null   int64  \n",
      " 9   Expensive      1460 non-null   int64  \n",
      " 10  MSZoning       1460 non-null   object \n",
      " 11  Condition1     1460 non-null   object \n",
      " 12  Heating        1460 non-null   object \n",
      " 13  Street         1460 non-null   object \n",
      " 14  CentralAir     1460 non-null   object \n",
      " 15  Foundation     1460 non-null   object \n",
      " 16  ExterQual      1460 non-null   object \n",
      " 17  ExterCond      1460 non-null   object \n",
      " 18  BsmtQual       1423 non-null   object \n",
      " 19  BsmtCond       1423 non-null   object \n",
      " 20  BsmtExposure   1422 non-null   object \n",
      " 21  BsmtFinType1   1423 non-null   object \n",
      " 22  KitchenQual    1460 non-null   object \n",
      " 23  FireplaceQu    770 non-null    object \n",
      " 24  MSSubClass     1460 non-null   int64  \n",
      " 25  OverallQual    1460 non-null   int64  \n",
      " 26  OverallCond    1460 non-null   int64  \n",
      " 27  YearBuilt      1460 non-null   int64  \n",
      " 28  YearRemodAdd   1460 non-null   int64  \n",
      " 29  MasVnrArea     1452 non-null   float64\n",
      " 30  BsmtFinSF1     1460 non-null   int64  \n",
      " 31  BsmtFinSF2     1460 non-null   int64  \n",
      " 32  BsmtUnfSF      1460 non-null   int64  \n",
      " 33  1stFlrSF       1460 non-null   int64  \n",
      " 34  2ndFlrSF       1460 non-null   int64  \n",
      " 35  LowQualFinSF   1460 non-null   int64  \n",
      " 36  GrLivArea      1460 non-null   int64  \n",
      " 37  BsmtFullBath   1460 non-null   int64  \n",
      " 38  BsmtHalfBath   1460 non-null   int64  \n",
      " 39  FullBath       1460 non-null   int64  \n",
      " 40  HalfBath       1460 non-null   int64  \n",
      " 41  KitchenAbvGr   1460 non-null   int64  \n",
      " 42  TotRmsAbvGrd   1460 non-null   int64  \n",
      " 43  GarageYrBlt    1379 non-null   float64\n",
      " 44  GarageArea     1460 non-null   int64  \n",
      " 45  OpenPorchSF    1460 non-null   int64  \n",
      " 46  EnclosedPorch  1460 non-null   int64  \n",
      " 47  3SsnPorch      1460 non-null   int64  \n",
      " 48  MiscVal        1460 non-null   int64  \n",
      " 49  MoSold         1460 non-null   int64  \n",
      " 50  YrSold         1460 non-null   int64  \n",
      " 51  Id             1460 non-null   int64  \n",
      " 52  Alley          91 non-null     object \n",
      " 53  LotShape       1460 non-null   object \n",
      " 54  LandContour    1460 non-null   object \n",
      " 55  Utilities      1460 non-null   object \n",
      " 56  LotConfig      1460 non-null   object \n",
      " 57  LandSlope      1460 non-null   object \n",
      " 58  Neighborhood   1460 non-null   object \n",
      " 59  Condition2     1460 non-null   object \n",
      " 60  BldgType       1460 non-null   object \n",
      " 61  HouseStyle     1460 non-null   object \n",
      " 62  RoofStyle      1460 non-null   object \n",
      " 63  RoofMatl       1460 non-null   object \n",
      " 64  Exterior1st    1460 non-null   object \n",
      " 65  Exterior2nd    1460 non-null   object \n",
      " 66  MasVnrType     1452 non-null   object \n",
      " 67  BsmtFinType2   1422 non-null   object \n",
      " 68  HeatingQC      1460 non-null   object \n",
      " 69  Electrical     1459 non-null   object \n",
      " 70  Functional     1460 non-null   object \n",
      " 71  GarageType     1379 non-null   object \n",
      " 72  GarageFinish   1379 non-null   object \n",
      " 73  GarageQual     1379 non-null   object \n",
      " 74  GarageCond     1379 non-null   object \n",
      " 75  PavedDrive     1460 non-null   object \n",
      " 76  PoolQC         7 non-null      object \n",
      " 77  Fence          281 non-null    object \n",
      " 78  MiscFeature    54 non-null     object \n",
      " 79  SaleType       1460 non-null   object \n",
      " 80  SaleCondition  1460 non-null   object \n",
      "dtypes: float64(3), int64(35), object(43)\n",
      "memory usage: 924.0+ KB\n"
     ]
    }
   ],
   "source": [
    "housing = pd.read_csv('../../data/competition/housing-classification-iter6.csv')\n",
    "housing.info()"
   ]
  },
  {
   "cell_type": "markdown",
   "id": "d1bf8b88-4acb-4954-874e-3c19de675b4c",
   "metadata": {},
   "source": [
    "# Cheking the data"
   ]
  },
  {
   "cell_type": "code",
   "execution_count": 23,
   "id": "c47fc530-f0d9-457d-bff9-7de2aeb233da",
   "metadata": {},
   "outputs": [
    {
     "data": {
      "text/plain": [
       "LotArea             0\n",
       "LotFrontage       259\n",
       "TotalBsmtSF         0\n",
       "BedroomAbvGr        0\n",
       "Fireplaces          0\n",
       "                 ... \n",
       "PoolQC           1453\n",
       "Fence            1179\n",
       "MiscFeature      1406\n",
       "SaleType            0\n",
       "SaleCondition       0\n",
       "Length: 81, dtype: int64"
      ]
     },
     "execution_count": 23,
     "metadata": {},
     "output_type": "execute_result"
    }
   ],
   "source": [
    "housing.isna().sum()"
   ]
  },
  {
   "cell_type": "code",
   "execution_count": 24,
   "id": "4925bada-283a-4dd3-81d0-97db138f44c7",
   "metadata": {
    "tags": []
   },
   "outputs": [
    {
     "data": {
      "text/plain": [
       "0"
      ]
     },
     "execution_count": 24,
     "metadata": {},
     "output_type": "execute_result"
    }
   ],
   "source": [
    "housing.duplicated().sum()"
   ]
  },
  {
   "cell_type": "markdown",
   "id": "3fd020cd-4386-4593-9fee-a26e75af304d",
   "metadata": {},
   "source": [
    "# Split the dataset"
   ]
  },
  {
   "cell_type": "code",
   "execution_count": 25,
   "id": "b422fdc0-3e41-498e-b461-3cfe9299fa89",
   "metadata": {},
   "outputs": [],
   "source": [
    "list_col = ['LotArea','OverallQual','OverallCond','YearBuilt','YearRemodAdd','YearBuilt','TotalBsmtSF','YearBuilt','GrLivArea','FullBath','GrLivArea','Fireplaces','GarageCars','PoolArea','Utilities','Neighborhood','Condition1','Condition2','HouseStyle','RoofStyle','RoofMatl','Exterior1st','Exterior2nd','Foundation','BsmtQual','BsmtCond','Heating','CentralAir','KitchenQual','Functional','Heating']"
   ]
  },
  {
   "cell_type": "code",
   "execution_count": 26,
   "id": "add28fe2-7ea2-4332-9b41-d2e675d1e38f",
   "metadata": {},
   "outputs": [],
   "source": [
    "X = housing.loc[:,list_col]\n",
    "y = housing['Expensive']\n",
    "\n",
    "X_train, X_test, y_train, y_test = train_test_split(X, y, train_size=0.80, random_state=8)\n",
    "\n",
    "X_train = pd.DataFrame(X_train, columns=X.columns)\n",
    "X_test = pd.DataFrame(X_test, columns=X.columns)"
   ]
  },
  {
   "cell_type": "markdown",
   "id": "66552065-b362-46e5-b4d7-216fa508ce61",
   "metadata": {},
   "source": [
    "# Define Numerical and Categorical columns to use"
   ]
  },
  {
   "cell_type": "markdown",
   "id": "03fb738d-3568-43d4-9969-009aa3075ee6",
   "metadata": {},
   "source": [
    "Using SimpleImputer fill in the missing values"
   ]
  },
  {
   "cell_type": "code",
   "execution_count": 27,
   "id": "c1d0c337-f487-49ab-ae47-b41d61d17e2b",
   "metadata": {},
   "outputs": [],
   "source": [
    "num_col = ['LotArea','OverallQual','OverallCond','YearBuilt','YearRemodAdd','YearBuilt','TotalBsmtSF','YearBuilt','GrLivArea','FullBath','GrLivArea','Fireplaces','GarageCars','PoolArea']\n",
    "\n",
    "imp_num = SimpleImputer(strategy='median')\n",
    "\n",
    "X_train[num_col] = imp_num.fit_transform(X_train[num_col])\n",
    "X_test[num_col] = imp_num.fit_transform(X_test[num_col])"
   ]
  },
  {
   "cell_type": "code",
   "execution_count": 28,
   "id": "12a5fc6c-8f52-4215-9372-a2718a494e65",
   "metadata": {},
   "outputs": [],
   "source": [
    "cat_col = ['Utilities','Neighborhood','Condition1','Condition2','HouseStyle','RoofStyle','RoofMatl','Exterior1st','Exterior2nd','Foundation','BsmtQual','BsmtCond','Heating','CentralAir','KitchenQual','Functional','Heating']\n",
    "\n",
    "imp_cat=SimpleImputer(strategy='most_frequent')\n",
    "\n",
    "X_train[cat_col] = imp_cat.fit_transform(X_train[cat_col])\n",
    "X_test[cat_col] = imp_cat.fit_transform(X_test[cat_col])"
   ]
  },
  {
   "cell_type": "markdown",
   "id": "74cfcca0-9876-4e53-a82e-5d101d04a9f1",
   "metadata": {},
   "source": [
    "## OneHotEncoder - Encoding the variables"
   ]
  },
  {
   "cell_type": "code",
   "execution_count": 29,
   "id": "82d90c7b-2770-4283-a266-d19096fe2ac6",
   "metadata": {},
   "outputs": [],
   "source": [
    "enc = OneHotEncoder(drop = 'first', sparse = False)"
   ]
  },
  {
   "cell_type": "code",
   "execution_count": 30,
   "id": "313e7e6a-0224-4bff-9ec3-0641cc0b9414",
   "metadata": {},
   "outputs": [],
   "source": [
    "X_train_enc = enc.fit_transform(X_train[cat_col])\n",
    "X_train_enc = pd.DataFrame(X_train_enc, columns=list(enc.get_feature_names_out()), index=X_train.index)\n",
    "X_train = pd.concat([X_train, X_train_enc], axis=1, ignore_index=False).drop(columns=cat_col)"
   ]
  },
  {
   "cell_type": "code",
   "execution_count": 31,
   "id": "145eca43-68ab-4fd8-b864-c625ae060c65",
   "metadata": {},
   "outputs": [],
   "source": [
    "X_test_enc = enc.transform(X_test[cat_col])\n",
    "X_test_enc = pd.DataFrame(X_test_enc, columns=list(enc.get_feature_names_out()), index=X_test.index)\n",
    "X_test = pd.concat([X_test, X_test_enc], axis=1, ignore_index=False).drop(columns=cat_col)"
   ]
  },
  {
   "cell_type": "markdown",
   "id": "a651ab57-50fb-4238-9eba-827bfe1e2755",
   "metadata": {},
   "source": [
    "## DecisionTree"
   ]
  },
  {
   "cell_type": "code",
   "execution_count": 32,
   "id": "cdbabc6e-aabb-401e-a21f-637b9a3663b3",
   "metadata": {},
   "outputs": [
    {
     "data": {
      "text/plain": [
       "DecisionTreeClassifier(max_depth=5)"
      ]
     },
     "execution_count": 32,
     "metadata": {},
     "output_type": "execute_result"
    }
   ],
   "source": [
    "tree = DecisionTreeClassifier(max_depth=5)\n",
    "tree.fit(X_train, y_train)"
   ]
  },
  {
   "cell_type": "code",
   "execution_count": 14,
   "id": "576fbd2f-e989-45be-87e1-2b4eb1c56b17",
   "metadata": {},
   "outputs": [
    {
     "data": {
      "image/png": "[encoded data removed]",
      "text/plain": [
       "<Figure size 1080x504 with 1 Axes>"
      ]
     },
     "metadata": {
      "needs_background": "light"
     },
     "output_type": "display_data"
    }
   ],
   "source": [
    "plt.figure(figsize=(15, 7))\n",
    "plot_tree(\n",
    "    tree, \n",
    "    filled=True,\n",
    "    rounded=True,\n",
    "    class_names=['Not Expensive', 'Expensive'],\n",
    "    feature_names=X_train.columns\n",
    "    );"
   ]
  },
  {
   "cell_type": "code",
   "execution_count": 33,
   "id": "e3c34978-ec21-4799-b5ab-a60022705d62",
   "metadata": {},
   "outputs": [
    {
     "data": {
      "text/plain": [
       "0.9708904109589042"
      ]
     },
     "execution_count": 33,
     "metadata": {},
     "output_type": "execute_result"
    }
   ],
   "source": [
    "#accuracy train set:\n",
    "preds = tree.predict(X_train)\n",
    "accuracy_score(preds, y_train)"
   ]
  },
  {
   "cell_type": "code",
   "execution_count": 34,
   "id": "c51196a6-40bf-4fbe-9031-62ebdc643b0a",
   "metadata": {},
   "outputs": [
    {
     "data": {
      "text/plain": [
       "0.9041095890410958"
      ]
     },
     "execution_count": 34,
     "metadata": {},
     "output_type": "execute_result"
    }
   ],
   "source": [
    "# accuracy test set:\n",
    "preds = tree.predict(X_test)\n",
    "decision_hotencoded = accuracy_score(preds, y_test)\n",
    "decision_hotencoded"
   ]
  },
  {
   "cell_type": "markdown",
   "id": "8b583a1b-2ebf-4670-a61e-a44fbc609fba",
   "metadata": {},
   "source": [
    "# Test dataset"
   ]
  },
  {
   "cell_type": "code",
   "execution_count": 35,
   "id": "b3e06881-0930-4382-b21f-470513a7345c",
   "metadata": {
    "tags": []
   },
   "outputs": [],
   "source": [
    "housing1 = pd.read_csv('../../data/competition/test.csv')"
   ]
  },
  {
   "cell_type": "code",
   "execution_count": 36,
   "id": "966d5c9c-20d3-43b3-ab32-22a1ca95f0f8",
   "metadata": {
    "tags": []
   },
   "outputs": [],
   "source": [
    "test = housing1[list_col].copy()\n",
    "test[num_col] = imp_num.transform(test[num_col])\n",
    "test[cat_col] = imp_cat.transform(test[cat_col])"
   ]
  },
  {
   "cell_type": "code",
   "execution_count": 37,
   "id": "baa44e14-7a40-46a5-a522-c529e3a2257a",
   "metadata": {},
   "outputs": [
    {
     "name": "stderr",
     "output_type": "stream",
     "text": [
      "C:\\Users\\akbar\\anaconda3\\lib\\site-packages\\sklearn\\utils\\deprecation.py:87: FutureWarning: Function get_feature_names is deprecated; get_feature_names is deprecated in 1.0 and will be removed in 1.2. Please use get_feature_names_out instead.\n",
      "  warnings.warn(msg, category=FutureWarning)\n"
     ]
    }
   ],
   "source": [
    "test_enc = enc.transform(test[cat_col])\n",
    "test_enc = pd.DataFrame(test_enc, columns=list(enc.get_feature_names()), index=test.index)\n",
    "test = pd.concat([test, test_enc], axis=1, ignore_index=False).drop(columns=cat_col)"
   ]
  },
  {
   "cell_type": "code",
   "execution_count": 38,
   "id": "da240f85-fc04-40b6-b65a-880e083e1473",
   "metadata": {},
   "outputs": [
    {
     "name": "stderr",
     "output_type": "stream",
     "text": [
      "C:\\Users\\akbar\\anaconda3\\lib\\site-packages\\sklearn\\base.py:488: FutureWarning: The feature names should match those that were passed during fit. Starting version 1.2, an error will be raised.\n",
      "Feature names unseen at fit time:\n",
      "- x0_NoSeWa\n",
      "- x10_Fa\n",
      "- x10_Gd\n",
      "- x10_TA\n",
      "- x11_Gd\n",
      "- ...\n",
      "Feature names seen at fit time, yet now missing:\n",
      "- BsmtCond_Gd\n",
      "- BsmtCond_Po\n",
      "- BsmtCond_TA\n",
      "- BsmtQual_Fa\n",
      "- BsmtQual_Gd\n",
      "- ...\n",
      "\n",
      "  warnings.warn(message, FutureWarning)\n"
     ]
    }
   ],
   "source": [
    "test_preds = tree.predict(test)\n",
    "pd.DataFrame({\n",
    "    'Id': housing1['Id'], \n",
    "    'Expensive' : test_preds\n",
    "}).to_csv('test_final.csv',index=False)"
   ]
  }
 ],
 "metadata": {
  "kernelspec": {
   "display_name": "Python 3",
   "language": "python",
   "name": "python3"
  },
  "language_info": {
   "codemirror_mode": {
    "name": "ipython",
    "version": 3
   },
   "file_extension": ".py",
   "mimetype": "text/x-python",
   "name": "python",
   "nbconvert_exporter": "python",
   "pygments_lexer": "ipython3",
   "version": "3.8.8"
  }
 },
 "nbformat": 4,
 "nbformat_minor": 5
}
